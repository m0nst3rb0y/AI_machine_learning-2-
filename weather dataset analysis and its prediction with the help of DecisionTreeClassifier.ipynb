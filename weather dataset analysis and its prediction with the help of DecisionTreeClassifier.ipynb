{
 "cells": [
  {
   "cell_type": "code",
   "execution_count": 90,
   "metadata": {},
   "outputs": [],
   "source": [
    "import pandas as pd      #importing dependencies\n",
    "import numpy as np\n",
    "from sklearn import preprocessing,cross_validation,tree,svm"
   ]
  },
  {
   "cell_type": "code",
   "execution_count": 3,
   "metadata": {},
   "outputs": [],
   "source": [
    "df=pd.read_csv('../jarvis/weatherdata.csv') #reading file"
   ]
  },
  {
   "cell_type": "code",
   "execution_count": 5,
   "metadata": {},
   "outputs": [
    {
     "data": {
      "text/plain": [
       "Index(['Unnamed: 0', 'datetime', 'hum', 'pressure', 'temp', 'cond'], dtype='object')"
      ]
     },
     "execution_count": 5,
     "metadata": {},
     "output_type": "execute_result"
    }
   ],
   "source": [
    " df.columns  #checking columns"
   ]
  },
  {
   "cell_type": "code",
   "execution_count": 7,
   "metadata": {},
   "outputs": [],
   "source": [
    "df1=df[['hum','pressure','temp','cond']] #{{{{{{dimentionality reduction}}}}}} ('selecting only the wanted label')"
   ]
  },
  {
   "cell_type": "code",
   "execution_count": 10,
   "metadata": {},
   "outputs": [],
   "source": [
    "g=df1.groupby('cond') #grouping data on the basis of weather conditions"
   ]
  },
  {
   "cell_type": "code",
   "execution_count": 14,
   "metadata": {
    "collapsed": true
   },
   "outputs": [
    {
     "name": "stdout",
     "output_type": "stream",
     "text": [
      "Blowing Sand\n",
      "         hum  pressure  temp          cond\n",
      "63070   21.0    1006.0  26.0  Blowing Sand\n",
      "63595   27.0    1000.0  32.0  Blowing Sand\n",
      "63596   20.0    1000.0  36.0  Blowing Sand\n",
      "63597   12.0     999.0  40.0  Blowing Sand\n",
      "63598   12.0     998.0  39.0  Blowing Sand\n",
      "63599   25.0     999.0  35.0  Blowing Sand\n",
      "64314   84.0    1002.0  27.0  Blowing Sand\n",
      "66148   23.0    1003.0  31.0  Blowing Sand\n",
      "66149   31.0    1005.0  30.0  Blowing Sand\n",
      "66150   24.0    1005.0  34.0  Blowing Sand\n",
      "66483   19.0     998.0  40.0  Blowing Sand\n",
      "66484    6.0     996.0  43.0  Blowing Sand\n",
      "66499   27.0    1004.0  33.0  Blowing Sand\n",
      "66517   43.0    1002.0  29.0  Blowing Sand\n",
      "66694   53.0     994.0  34.0  Blowing Sand\n",
      "66701   46.0     992.0  32.0  Blowing Sand\n",
      "67117   85.0    1004.0  26.0  Blowing Sand\n",
      "68915   28.0    1008.0  36.0  Blowing Sand\n",
      "68931   34.0    1010.0  32.0  Blowing Sand\n",
      "68932   29.0    1008.0  34.0  Blowing Sand\n",
      "69292   26.0    1002.0  32.0  Blowing Sand\n",
      "70725   67.0    1020.0  15.0  Blowing Sand\n",
      "71667   56.0    1010.0  21.0  Blowing Sand\n",
      "71904   15.0     998.0  38.0  Blowing Sand\n",
      "71920   33.0    1002.0  28.0  Blowing Sand\n",
      "71935   23.0    1006.0  30.0  Blowing Sand\n",
      "72014   40.0     999.0  28.0  Blowing Sand\n",
      "72089   18.0    1000.0  34.0  Blowing Sand\n",
      "73954   53.0    1020.0  17.0  Blowing Sand\n",
      "74265   11.0    1010.0  27.0  Blowing Sand\n",
      "...      ...       ...   ...           ...\n",
      "94608    7.0    1003.0  40.0  Blowing Sand\n",
      "94719   29.0    1008.0  31.0  Blowing Sand\n",
      "95082   16.0     998.0  41.0  Blowing Sand\n",
      "95101   31.0    1000.0  38.0  Blowing Sand\n",
      "95230   51.0    1003.0  34.0  Blowing Sand\n",
      "95254   37.0    1002.0  37.0  Blowing Sand\n",
      "95357   52.0     999.0  30.0  Blowing Sand\n",
      "97945   35.0    1009.0  32.0  Blowing Sand\n",
      "98025   29.0    1006.0  34.0  Blowing Sand\n",
      "98797   18.0    1014.0  26.0  Blowing Sand\n",
      "100418  12.0    1014.0  25.0  Blowing Sand\n",
      "100425  30.0    1018.0  22.0  Blowing Sand\n",
      "100426  22.0    1015.0  25.0  Blowing Sand\n",
      "100433  26.0    1016.0  24.0  Blowing Sand\n",
      "100682  23.0    1011.0  30.0  Blowing Sand\n",
      "100690  22.0    1010.0  33.0  Blowing Sand\n",
      "100698  20.0    1009.0  35.0  Blowing Sand\n",
      "100733  20.0    1012.0  33.0  Blowing Sand\n",
      "100734  13.0    1010.0  35.0  Blowing Sand\n",
      "100736  19.0    1008.0  33.0  Blowing Sand\n",
      "100744  19.0    1008.0  36.0  Blowing Sand\n",
      "100753  13.0    1008.0  37.0  Blowing Sand\n",
      "100760  22.0    1008.0  35.0  Blowing Sand\n",
      "100761  14.0    1006.0  38.0  Blowing Sand\n",
      "100792  13.0    1003.0  38.0  Blowing Sand\n",
      "100838   9.0    1000.0  36.0  Blowing Sand\n",
      "100860  14.0    1012.0  30.0  Blowing Sand\n",
      "100861  12.0    1010.0  32.0  Blowing Sand\n",
      "100862  14.0    1008.0  32.0  Blowing Sand\n",
      "100884   8.0    1004.0  39.0  Blowing Sand\n",
      "\n",
      "[378 rows x 4 columns]\n"
     ]
    },
    {
     "ename": "AttributeError",
     "evalue": "'NoneType' object has no attribute 'head'",
     "output_type": "error",
     "traceback": [
      "\u001b[0;31m---------------------------------------------------------------------------\u001b[0m",
      "\u001b[0;31mAttributeError\u001b[0m                            Traceback (most recent call last)",
      "\u001b[0;32m<ipython-input-14-a4129522469a>\u001b[0m in \u001b[0;36m<module>\u001b[0;34m()\u001b[0m\n\u001b[1;32m      1\u001b[0m \u001b[0;32mfor\u001b[0m \u001b[0mi\u001b[0m\u001b[0;34m,\u001b[0m\u001b[0mdf1\u001b[0m \u001b[0;32min\u001b[0m \u001b[0mg\u001b[0m\u001b[0;34m:\u001b[0m         \u001b[0;31m#i is the iterator that will iterate through the data object g\u001b[0m\u001b[0;34m\u001b[0m\u001b[0m\n\u001b[1;32m      2\u001b[0m     \u001b[0mprint\u001b[0m\u001b[0;34m(\u001b[0m\u001b[0mi\u001b[0m\u001b[0;34m)\u001b[0m            \u001b[0;31m#it will print out the weather condition\u001b[0m\u001b[0;34m\u001b[0m\u001b[0m\n\u001b[0;32m----> 3\u001b[0;31m     \u001b[0mprint\u001b[0m\u001b[0;34m(\u001b[0m\u001b[0mdf1\u001b[0m\u001b[0;34m)\u001b[0m\u001b[0;34m.\u001b[0m\u001b[0mhead\u001b[0m\u001b[0;34m(\u001b[0m\u001b[0;34m)\u001b[0m   \u001b[0;31m#it will print out the first 5 rows of each grouped by cond for dataset\u001b[0m\u001b[0;34m\u001b[0m\u001b[0m\n\u001b[0m",
      "\u001b[0;31mAttributeError\u001b[0m: 'NoneType' object has no attribute 'head'"
     ]
    }
   ],
   "source": [
    "for i,df1 in g:         #i is the iterator that will iterate through the data object g\n",
    "    print(i)            #it will print out the weather condition\n",
    "    print(df1).head()   #it will print out the first 5 rows of each grouped by cond for dataset"
   ]
  },
  {
   "cell_type": "code",
   "execution_count": 17,
   "metadata": {},
   "outputs": [
    {
     "data": {
      "text/plain": [
       "hum         1\n",
       "pressure    2\n",
       "temp        1\n",
       "cond        0\n",
       "dtype: int64"
      ]
     },
     "execution_count": 17,
     "metadata": {},
     "output_type": "execute_result"
    }
   ],
   "source": [
    "df1.isnull().sum()   #checking for nullvalues\n"
   ]
  },
  {
   "cell_type": "code",
   "execution_count": 21,
   "metadata": {},
   "outputs": [],
   "source": [
    "hummean=df1['hum'].mean()\n",
    "premean=df1['pressure'].mean()               #getting the mean values of missing labels\n",
    "tempmean=df1['temp'].mean()"
   ]
  },
  {
   "cell_type": "code",
   "execution_count": 22,
   "metadata": {},
   "outputs": [],
   "source": [
    "values={'hum':hummean,'pressure':premean,'temp':tempmean}"
   ]
  },
  {
   "cell_type": "code",
   "execution_count": 26,
   "metadata": {},
   "outputs": [],
   "source": [
    "df2=df1.fillna(value=values)      #all the empty values are being filled by their respective mean values"
   ]
  },
  {
   "cell_type": "code",
   "execution_count": 28,
   "metadata": {
    "collapsed": true
   },
   "outputs": [
    {
     "data": {
      "text/plain": [
       "hum         0\n",
       "pressure    0\n",
       "temp        0\n",
       "cond        0\n",
       "dtype: int64"
      ]
     },
     "execution_count": 28,
     "metadata": {},
     "output_type": "execute_result"
    }
   ],
   "source": [
    "df2.isnull().sum()                #no null value present hence out data will perform better..!"
   ]
  },
  {
   "cell_type": "code",
   "execution_count": 29,
   "metadata": {},
   "outputs": [],
   "source": [
    "#for finfing the perfect feature and its corrosponding label \n",
    "#df['hum','temp','pressure '] will be the perfect label for predicting the weather_conditions"
   ]
  },
  {
   "cell_type": "code",
   "execution_count": 33,
   "metadata": {},
   "outputs": [],
   "source": [
    "ar1=np.array(df2.drop(['cond'],1))      #creating array with numpy class"
   ]
  },
  {
   "cell_type": "code",
   "execution_count": 34,
   "metadata": {},
   "outputs": [],
   "source": [
    "ar2=np.array(df2['cond'])"
   ]
  },
  {
   "cell_type": "code",
   "execution_count": 38,
   "metadata": {},
   "outputs": [],
   "source": [
    "X=ar1.tolist()\n",
    "Y=ar2.tolist()        #converting the array to a list for generating a classifier."
   ]
  },
  {
   "cell_type": "code",
   "execution_count": 44,
   "metadata": {},
   "outputs": [
    {
     "name": "stdout",
     "output_type": "stream",
     "text": [
      "hum                   85\n",
      "pressure            1020\n",
      "temp                  45\n",
      "cond        Blowing Sand\n",
      "dtype: object\n",
      "hum                    4\n",
      "pressure             990\n",
      "temp                  15\n",
      "cond        Blowing Sand\n",
      "dtype: object\n"
     ]
    }
   ],
   "source": [
    "print(df2.max())\n",
    "print(df2.min())"
   ]
  },
  {
   "cell_type": "code",
   "execution_count": 45,
   "metadata": {},
   "outputs": [],
   "source": [
    " # now since their is a big difference between the min and max for the features of X \n",
    "    #so it will be better if we scale them all."
   ]
  },
  {
   "cell_type": "code",
   "execution_count": 48,
   "metadata": {},
   "outputs": [],
   "source": [
    "x=preprocessing.scale(X)       "
   ]
  },
  {
   "cell_type": "code",
   "execution_count": 130,
   "metadata": {},
   "outputs": [],
   "source": [
    "x_train,x_test,y_train,y_test=cross_validation.train_test_split(x,Y,test_size=0.1)"
   ]
  },
  {
   "cell_type": "code",
   "execution_count": 131,
   "metadata": {},
   "outputs": [
    {
     "name": "stdout",
     "output_type": "stream",
     "text": [
      "(340, 3) (38, 3)\n",
      "340 38\n"
     ]
    }
   ],
   "source": [
    "print(x_train.shape,x_test.shape)    \n",
    "print(len(y_train),len(y_test))   #it splitted the testing and training data where\n",
    "#we choose the testing data to be the less than that of out training data for better build of classifier."
   ]
  },
  {
   "cell_type": "code",
   "execution_count": 132,
   "metadata": {},
   "outputs": [],
   "source": [
    "clf=tree.DecisionTreeClassifier()        #clf is an empty tree classifer"
   ]
  },
  {
   "cell_type": "code",
   "execution_count": 135,
   "metadata": {},
   "outputs": [],
   "source": [
    "clf=clf.fit(x_train,y_train)            # we fitted out training data for the training purpose in the clf tree"
   ]
  },
  {
   "cell_type": "code",
   "execution_count": 136,
   "metadata": {},
   "outputs": [],
   "source": [
    "prediction=clf.predict([[60,1000,30]])  "
   ]
  },
  {
   "cell_type": "code",
   "execution_count": 137,
   "metadata": {},
   "outputs": [
    {
     "data": {
      "text/plain": [
       "array(['Blowing Sand'], dtype='<U12')"
      ]
     },
     "execution_count": 137,
     "metadata": {},
     "output_type": "execute_result"
    }
   ],
   "source": [
    "prediction                            #it predicted that according to the given data their will be sand blowing on that day"
   ]
  },
  {
   "cell_type": "code",
   "execution_count": null,
   "metadata": {},
   "outputs": [],
   "source": []
  },
  {
   "cell_type": "code",
   "execution_count": null,
   "metadata": {},
   "outputs": [],
   "source": []
  }
 ],
 "metadata": {
  "kernelspec": {
   "display_name": "Python 3",
   "language": "python",
   "name": "python3"
  },
  "language_info": {
   "codemirror_mode": {
    "name": "ipython",
    "version": 3
   },
   "file_extension": ".py",
   "mimetype": "text/x-python",
   "name": "python",
   "nbconvert_exporter": "python",
   "pygments_lexer": "ipython3",
   "version": "3.6.5"
  }
 },
 "nbformat": 4,
 "nbformat_minor": 2
}
